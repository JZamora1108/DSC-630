{
 "cells": [
  {
   "cell_type": "code",
   "execution_count": null,
   "id": "4067f9e0",
   "metadata": {},
   "outputs": [],
   "source": [
    "For this week’s assignment we're going to use Dodgers Major League Baseball data from 2012. The data file you will be using \n",
    "is contained in the dodgers.csv file. I would like you to determine what night would be the best to run a marketing \n",
    "promotion to increase attendance. It is up to you if you decide to recommend a specific date or if you  recommend \n",
    "a day of the week (e.g., Tuesdays) or month and day of the week (e.g., July Tuesdays). Use R and/or Python to accomplish \n",
    "this assignment. It is important to remember, there will be lots of ways to solve this problem. Explain your thought process \n",
    "and how you used various techniques to come up with your recommendation. From this data, at a minimum, \n",
    "you should be able to demonstrate the following:"
   ]
  },
  {
   "cell_type": "code",
   "execution_count": null,
   "id": "6ab740c1",
   "metadata": {},
   "outputs": [],
   "source": [
    "My first thought when I viewed the information was to see if the temperature effected the attendance rate at all. \n",
    "I started off by running a box plot to view the attendance by dayt of the week and then ran a scatter plot to see the \n",
    "correlation between attendance and temperate."
   ]
  },
  {
   "cell_type": "code",
   "execution_count": null,
   "id": "d0e6f7fb",
   "metadata": {},
   "outputs": [],
   "source": [
    "At the conclusion of the assignment the predictive boxplot shows that the best day to run advertisements would be on Tuesdays, \n",
    "Thursdays and Sundays. "
   ]
  },
  {
   "cell_type": "code",
   "execution_count": 161,
   "id": "1c34b06d",
   "metadata": {
    "scrolled": true
   },
   "outputs": [
    {
     "ename": "SyntaxError",
     "evalue": "invalid syntax (Temp/ipykernel_21940/3770162991.py, line 8)",
     "output_type": "error",
     "traceback": [
      "\u001b[1;36m  File \u001b[1;32m\"C:\\Users\\14029\\AppData\\Local\\Temp/ipykernel_21940/3770162991.py\"\u001b[1;36m, line \u001b[1;32m8\u001b[0m\n\u001b[1;33m    conda install nbconvert\u001b[0m\n\u001b[1;37m          ^\u001b[0m\n\u001b[1;31mSyntaxError\u001b[0m\u001b[1;31m:\u001b[0m invalid syntax\n"
     ]
    }
   ],
   "source": [
    "##View os and imports\n",
    "import pandas as pd\n",
    "import numpy as np\n",
    "import matplotlib.pyplot as plt\n",
    "import os\n",
    "from sklearn import linear_model\n",
    "from sklearn.linear_model import LinearRegression\n",
    "print (os)"
   ]
  },
  {
   "cell_type": "code",
   "execution_count": 17,
   "id": "592704ea",
   "metadata": {},
   "outputs": [
    {
     "data": {
      "text/html": [
       "<div>\n",
       "<style scoped>\n",
       "    .dataframe tbody tr th:only-of-type {\n",
       "        vertical-align: middle;\n",
       "    }\n",
       "\n",
       "    .dataframe tbody tr th {\n",
       "        vertical-align: top;\n",
       "    }\n",
       "\n",
       "    .dataframe thead th {\n",
       "        text-align: right;\n",
       "    }\n",
       "</style>\n",
       "<table border=\"1\" class=\"dataframe\">\n",
       "  <thead>\n",
       "    <tr style=\"text-align: right;\">\n",
       "      <th></th>\n",
       "      <th>month</th>\n",
       "      <th>day</th>\n",
       "      <th>attend</th>\n",
       "      <th>day_of_week</th>\n",
       "      <th>opponent</th>\n",
       "      <th>temp</th>\n",
       "      <th>skies</th>\n",
       "      <th>day_night</th>\n",
       "      <th>cap</th>\n",
       "      <th>shirt</th>\n",
       "      <th>fireworks</th>\n",
       "      <th>bobblehead</th>\n",
       "    </tr>\n",
       "  </thead>\n",
       "  <tbody>\n",
       "    <tr>\n",
       "      <th>0</th>\n",
       "      <td>APR</td>\n",
       "      <td>10</td>\n",
       "      <td>56000</td>\n",
       "      <td>Tuesday</td>\n",
       "      <td>Pirates</td>\n",
       "      <td>67</td>\n",
       "      <td>Clear</td>\n",
       "      <td>Day</td>\n",
       "      <td>NO</td>\n",
       "      <td>NO</td>\n",
       "      <td>NO</td>\n",
       "      <td>NO</td>\n",
       "    </tr>\n",
       "    <tr>\n",
       "      <th>1</th>\n",
       "      <td>APR</td>\n",
       "      <td>11</td>\n",
       "      <td>29729</td>\n",
       "      <td>Wednesday</td>\n",
       "      <td>Pirates</td>\n",
       "      <td>58</td>\n",
       "      <td>Cloudy</td>\n",
       "      <td>Night</td>\n",
       "      <td>NO</td>\n",
       "      <td>NO</td>\n",
       "      <td>NO</td>\n",
       "      <td>NO</td>\n",
       "    </tr>\n",
       "    <tr>\n",
       "      <th>2</th>\n",
       "      <td>APR</td>\n",
       "      <td>12</td>\n",
       "      <td>28328</td>\n",
       "      <td>Thursday</td>\n",
       "      <td>Pirates</td>\n",
       "      <td>57</td>\n",
       "      <td>Cloudy</td>\n",
       "      <td>Night</td>\n",
       "      <td>NO</td>\n",
       "      <td>NO</td>\n",
       "      <td>NO</td>\n",
       "      <td>NO</td>\n",
       "    </tr>\n",
       "    <tr>\n",
       "      <th>3</th>\n",
       "      <td>APR</td>\n",
       "      <td>13</td>\n",
       "      <td>31601</td>\n",
       "      <td>Friday</td>\n",
       "      <td>Padres</td>\n",
       "      <td>54</td>\n",
       "      <td>Cloudy</td>\n",
       "      <td>Night</td>\n",
       "      <td>NO</td>\n",
       "      <td>NO</td>\n",
       "      <td>YES</td>\n",
       "      <td>NO</td>\n",
       "    </tr>\n",
       "    <tr>\n",
       "      <th>4</th>\n",
       "      <td>APR</td>\n",
       "      <td>14</td>\n",
       "      <td>46549</td>\n",
       "      <td>Saturday</td>\n",
       "      <td>Padres</td>\n",
       "      <td>57</td>\n",
       "      <td>Cloudy</td>\n",
       "      <td>Night</td>\n",
       "      <td>NO</td>\n",
       "      <td>NO</td>\n",
       "      <td>NO</td>\n",
       "      <td>NO</td>\n",
       "    </tr>\n",
       "    <tr>\n",
       "      <th>5</th>\n",
       "      <td>APR</td>\n",
       "      <td>15</td>\n",
       "      <td>38359</td>\n",
       "      <td>Sunday</td>\n",
       "      <td>Padres</td>\n",
       "      <td>65</td>\n",
       "      <td>Clear</td>\n",
       "      <td>Day</td>\n",
       "      <td>NO</td>\n",
       "      <td>NO</td>\n",
       "      <td>NO</td>\n",
       "      <td>NO</td>\n",
       "    </tr>\n",
       "    <tr>\n",
       "      <th>6</th>\n",
       "      <td>APR</td>\n",
       "      <td>23</td>\n",
       "      <td>26376</td>\n",
       "      <td>Monday</td>\n",
       "      <td>Braves</td>\n",
       "      <td>60</td>\n",
       "      <td>Cloudy</td>\n",
       "      <td>Night</td>\n",
       "      <td>NO</td>\n",
       "      <td>NO</td>\n",
       "      <td>NO</td>\n",
       "      <td>NO</td>\n",
       "    </tr>\n",
       "    <tr>\n",
       "      <th>7</th>\n",
       "      <td>APR</td>\n",
       "      <td>24</td>\n",
       "      <td>44014</td>\n",
       "      <td>Tuesday</td>\n",
       "      <td>Braves</td>\n",
       "      <td>63</td>\n",
       "      <td>Cloudy</td>\n",
       "      <td>Night</td>\n",
       "      <td>NO</td>\n",
       "      <td>NO</td>\n",
       "      <td>NO</td>\n",
       "      <td>NO</td>\n",
       "    </tr>\n",
       "    <tr>\n",
       "      <th>8</th>\n",
       "      <td>APR</td>\n",
       "      <td>25</td>\n",
       "      <td>26345</td>\n",
       "      <td>Wednesday</td>\n",
       "      <td>Braves</td>\n",
       "      <td>64</td>\n",
       "      <td>Cloudy</td>\n",
       "      <td>Night</td>\n",
       "      <td>NO</td>\n",
       "      <td>NO</td>\n",
       "      <td>NO</td>\n",
       "      <td>NO</td>\n",
       "    </tr>\n",
       "    <tr>\n",
       "      <th>9</th>\n",
       "      <td>APR</td>\n",
       "      <td>27</td>\n",
       "      <td>44807</td>\n",
       "      <td>Friday</td>\n",
       "      <td>Nationals</td>\n",
       "      <td>66</td>\n",
       "      <td>Clear</td>\n",
       "      <td>Night</td>\n",
       "      <td>NO</td>\n",
       "      <td>NO</td>\n",
       "      <td>YES</td>\n",
       "      <td>NO</td>\n",
       "    </tr>\n",
       "  </tbody>\n",
       "</table>\n",
       "</div>"
      ],
      "text/plain": [
       "  month  day  attend day_of_week   opponent  temp   skies day_night cap shirt  \\\n",
       "0   APR   10   56000     Tuesday    Pirates    67  Clear        Day  NO    NO   \n",
       "1   APR   11   29729   Wednesday    Pirates    58  Cloudy     Night  NO    NO   \n",
       "2   APR   12   28328    Thursday    Pirates    57  Cloudy     Night  NO    NO   \n",
       "3   APR   13   31601      Friday     Padres    54  Cloudy     Night  NO    NO   \n",
       "4   APR   14   46549    Saturday     Padres    57  Cloudy     Night  NO    NO   \n",
       "5   APR   15   38359      Sunday     Padres    65  Clear        Day  NO    NO   \n",
       "6   APR   23   26376      Monday     Braves    60  Cloudy     Night  NO    NO   \n",
       "7   APR   24   44014     Tuesday     Braves    63  Cloudy     Night  NO    NO   \n",
       "8   APR   25   26345   Wednesday     Braves    64  Cloudy     Night  NO    NO   \n",
       "9   APR   27   44807      Friday  Nationals    66  Clear      Night  NO    NO   \n",
       "\n",
       "  fireworks bobblehead  \n",
       "0        NO         NO  \n",
       "1        NO         NO  \n",
       "2        NO         NO  \n",
       "3       YES         NO  \n",
       "4        NO         NO  \n",
       "5        NO         NO  \n",
       "6        NO         NO  \n",
       "7        NO         NO  \n",
       "8        NO         NO  \n",
       "9       YES         NO  "
      ]
     },
     "execution_count": 17,
     "metadata": {},
     "output_type": "execute_result"
    }
   ],
   "source": [
    "##Read in spreadsheet and view info\n",
    "dodgers_df = pd.read_csv(\"dodgers.csv\")\n",
    "dodgers_df.head(10)"
   ]
  },
  {
   "cell_type": "code",
   "execution_count": 19,
   "id": "822cd006",
   "metadata": {},
   "outputs": [
    {
     "data": {
      "text/plain": [
       "Tuesday      13\n",
       "Friday       13\n",
       "Saturday     13\n",
       "Sunday       13\n",
       "Wednesday    12\n",
       "Monday       12\n",
       "Thursday      5\n",
       "Name: day_of_week, dtype: int64"
      ]
     },
     "execution_count": 19,
     "metadata": {},
     "output_type": "execute_result"
    }
   ],
   "source": [
    "## View data by day_of_week\n",
    "## Shows Thursday as an outlier \n",
    "dodgers_df['day_of_week'].value_counts(dropna = False)"
   ]
  },
  {
   "cell_type": "code",
   "execution_count": 22,
   "id": "e280da1a",
   "metadata": {},
   "outputs": [
    {
     "data": {
      "image/png": "[encoded data removed]",
      "text/plain": [
       "<Figure size 432x288 with 1 Axes>"
      ]
     },
     "metadata": {
      "needs_background": "light"
     },
     "output_type": "display_data"
    }
   ],
   "source": [
    "##Set up box plot to show distribution for attendance on different days of the week\n",
    "Monday = dodgers_df.loc[dodgers_df['day_of_week']=='Monday', 'attend'].values\n",
    "Tuesday = dodgers_df.loc[dodgers_df['day_of_week']=='Tuesday', 'attend'].values\n",
    "Wednesday = dodgers_df.loc[dodgers_df['day_of_week']=='Wednesday', 'attend'].values\n",
    "Thursday = dodgers_df.loc[dodgers_df['day_of_week']=='Thursday', 'attend'].values\n",
    "Friday = dodgers_df.loc[dodgers_df['day_of_week']=='Friday', 'attend'].values\n",
    "Saturday = dodgers_df.loc[dodgers_df['day_of_week']=='Saturday', 'attend'].values\n",
    "Sunday = dodgers_df.loc[dodgers_df['day_of_week']=='Sunday', 'attend'].values\n",
    "\n",
    "plt.boxplot([Monday, Tuesday, Wednesday, Thursday, Friday, Saturday, Sunday], labels = ['Monday', 'Tuesday', 'Wednesday', 'Thursday', 'Friday', 'Saturday', 'Sunday']);"
   ]
  },
  {
   "cell_type": "code",
   "execution_count": 18,
   "id": "d54a060f",
   "metadata": {},
   "outputs": [],
   "source": [
    "## order by day of week\n",
    "\n",
    "df_weekday = df.groupby(['day_of_week']).median()"
   ]
  },
  {
   "cell_type": "code",
   "execution_count": 16,
   "id": "80fcad1d",
   "metadata": {},
   "outputs": [
    {
     "name": "stdout",
     "output_type": "stream",
     "text": [
      "               day    attend    temp\n",
      "day_of_week                         \n",
      "Friday       251.0  521520.0   906.0\n",
      "Monday       161.0  419588.0   874.0\n",
      "Saturday     233.0  559948.0   945.0\n",
      "Sunday       216.0  549495.0  1016.0\n",
      "Thursday     114.0  202037.0   362.0\n",
      "Tuesday      183.0  620636.0   946.0\n",
      "Wednesday    149.0  451022.0   876.0\n"
     ]
    }
   ],
   "source": [
    "## view median data for attendance - temp and day will be skewed data figures\n",
    "\n",
    "print (df_weekday)"
   ]
  },
  {
   "cell_type": "code",
   "execution_count": 29,
   "id": "1dda3aee",
   "metadata": {},
   "outputs": [
    {
     "data": {
      "text/plain": [
       "<matplotlib.collections.PathCollection at 0x25d17e0f4c0>"
      ]
     },
     "execution_count": 29,
     "metadata": {},
     "output_type": "execute_result"
    },
    {
     "data": {
      "image/png": "[encoded data removed]",
      "text/plain": [
       "<Figure size 576x396 with 1 Axes>"
      ]
     },
     "metadata": {},
     "output_type": "display_data"
    }
   ],
   "source": [
    "## Set up scatter plot to show correlation between day of week and temperatures\n",
    "\n",
    "plt.style.use('seaborn')\n",
    "\n",
    "x = dodgers_df['day_of_week']\n",
    "y = dodgers_df['temp']\n",
    "\n",
    "plt.title('Day of week and Temperatures')\n",
    "plt.xlabel('Day of Week')\n",
    "plt.ylabel('Temperature (Fahrenheit)')\n",
    "plt.scatter(x,y)\n",
    "\n",
    "## No clear indication that a specific day of the week has nicer or more preferred temperatures"
   ]
  },
  {
   "cell_type": "code",
   "execution_count": 56,
   "id": "c885e16e",
   "metadata": {},
   "outputs": [
    {
     "data": {
      "text/plain": [
       "<matplotlib.collections.PathCollection at 0x25d322f30d0>"
      ]
     },
     "execution_count": 56,
     "metadata": {},
     "output_type": "execute_result"
    },
    {
     "data": {
      "image/png": "[encoded data removed]",
      "text/plain": [
       "<Figure size 432x288 with 1 Axes>"
      ]
     },
     "metadata": {
      "needs_background": "light"
     },
     "output_type": "display_data"
    }
   ],
   "source": [
    "## Set up linear regression model for attendance and day of week\n",
    "\n",
    "%matplotlib inline\n",
    "plt.xlabel('Temperature')\n",
    "plt.ylabel('Attendance')\n",
    "plt.scatter(dodgers_df.temp, dodgers_df.attend, color = 'red' , marker = '+')"
   ]
  },
  {
   "cell_type": "code",
   "execution_count": 142,
   "id": "3adc953b",
   "metadata": {},
   "outputs": [],
   "source": [
    "temp = dodgers_df.temp\n",
    "attend = dodgers_df.attend"
   ]
  },
  {
   "cell_type": "code",
   "execution_count": 143,
   "id": "3699b3bf",
   "metadata": {},
   "outputs": [
    {
     "data": {
      "text/plain": [
       "LinearRegression()"
      ]
     },
     "execution_count": 143,
     "metadata": {},
     "output_type": "execute_result"
    }
   ],
   "source": [
    "## fit linear regression model\n",
    "## had to reshape\n",
    "reg = linear_model.LinearRegression()\n",
    "reg.fit(temp.values.reshape(-1, 1), attend)"
   ]
  },
  {
   "cell_type": "code",
   "execution_count": 144,
   "id": "d7cc32c2",
   "metadata": {},
   "outputs": [
    {
     "data": {
      "text/plain": [
       "array([98.71542724])"
      ]
     },
     "execution_count": 144,
     "metadata": {},
     "output_type": "execute_result"
    }
   ],
   "source": [
    "## view coefficient\n",
    "reg.coef_"
   ]
  },
  {
   "cell_type": "code",
   "execution_count": 145,
   "id": "dbf8c1e7",
   "metadata": {},
   "outputs": [
    {
     "data": {
      "text/plain": [
       "33819.22337777064"
      ]
     },
     "execution_count": 145,
     "metadata": {},
     "output_type": "execute_result"
    }
   ],
   "source": [
    "## view intercept\n",
    "reg.intercept_"
   ]
  },
  {
   "cell_type": "code",
   "execution_count": 146,
   "id": "3097e85e",
   "metadata": {},
   "outputs": [
    {
     "data": {
      "text/plain": [
       "-27059217.1857819"
      ]
     },
     "execution_count": 146,
     "metadata": {},
     "output_type": "execute_result"
    }
   ],
   "source": [
    "## negative score is still a score - I did a lot of research and it says the score can be pos or neg\n",
    "## had to reshape \n",
    "reg.score(temp.values.reshape(-1, 1), temp, attend)"
   ]
  },
  {
   "cell_type": "code",
   "execution_count": 150,
   "id": "58359bd6",
   "metadata": {},
   "outputs": [
    {
     "data": {
      "text/html": [
       "<div>\n",
       "<style scoped>\n",
       "    .dataframe tbody tr th:only-of-type {\n",
       "        vertical-align: middle;\n",
       "    }\n",
       "\n",
       "    .dataframe tbody tr th {\n",
       "        vertical-align: top;\n",
       "    }\n",
       "\n",
       "    .dataframe thead th {\n",
       "        text-align: right;\n",
       "    }\n",
       "</style>\n",
       "<table border=\"1\" class=\"dataframe\">\n",
       "  <thead>\n",
       "    <tr style=\"text-align: right;\">\n",
       "      <th></th>\n",
       "      <th>month</th>\n",
       "      <th>day</th>\n",
       "      <th>attend</th>\n",
       "      <th>day_of_week</th>\n",
       "      <th>opponent</th>\n",
       "      <th>temp</th>\n",
       "      <th>skies</th>\n",
       "      <th>day_night</th>\n",
       "      <th>cap</th>\n",
       "      <th>shirt</th>\n",
       "      <th>fireworks</th>\n",
       "      <th>bobblehead</th>\n",
       "    </tr>\n",
       "  </thead>\n",
       "  <tbody>\n",
       "    <tr>\n",
       "      <th>0</th>\n",
       "      <td>APR</td>\n",
       "      <td>10</td>\n",
       "      <td>56000</td>\n",
       "      <td>Tuesday</td>\n",
       "      <td>Pirates</td>\n",
       "      <td>67</td>\n",
       "      <td>Clear</td>\n",
       "      <td>Day</td>\n",
       "      <td>NO</td>\n",
       "      <td>NO</td>\n",
       "      <td>NO</td>\n",
       "      <td>NO</td>\n",
       "    </tr>\n",
       "    <tr>\n",
       "      <th>1</th>\n",
       "      <td>APR</td>\n",
       "      <td>11</td>\n",
       "      <td>29729</td>\n",
       "      <td>Wednesday</td>\n",
       "      <td>Pirates</td>\n",
       "      <td>58</td>\n",
       "      <td>Cloudy</td>\n",
       "      <td>Night</td>\n",
       "      <td>NO</td>\n",
       "      <td>NO</td>\n",
       "      <td>NO</td>\n",
       "      <td>NO</td>\n",
       "    </tr>\n",
       "    <tr>\n",
       "      <th>2</th>\n",
       "      <td>APR</td>\n",
       "      <td>12</td>\n",
       "      <td>28328</td>\n",
       "      <td>Thursday</td>\n",
       "      <td>Pirates</td>\n",
       "      <td>57</td>\n",
       "      <td>Cloudy</td>\n",
       "      <td>Night</td>\n",
       "      <td>NO</td>\n",
       "      <td>NO</td>\n",
       "      <td>NO</td>\n",
       "      <td>NO</td>\n",
       "    </tr>\n",
       "    <tr>\n",
       "      <th>3</th>\n",
       "      <td>APR</td>\n",
       "      <td>13</td>\n",
       "      <td>31601</td>\n",
       "      <td>Friday</td>\n",
       "      <td>Padres</td>\n",
       "      <td>54</td>\n",
       "      <td>Cloudy</td>\n",
       "      <td>Night</td>\n",
       "      <td>NO</td>\n",
       "      <td>NO</td>\n",
       "      <td>YES</td>\n",
       "      <td>NO</td>\n",
       "    </tr>\n",
       "    <tr>\n",
       "      <th>4</th>\n",
       "      <td>APR</td>\n",
       "      <td>14</td>\n",
       "      <td>46549</td>\n",
       "      <td>Saturday</td>\n",
       "      <td>Padres</td>\n",
       "      <td>57</td>\n",
       "      <td>Cloudy</td>\n",
       "      <td>Night</td>\n",
       "      <td>NO</td>\n",
       "      <td>NO</td>\n",
       "      <td>NO</td>\n",
       "      <td>NO</td>\n",
       "    </tr>\n",
       "    <tr>\n",
       "      <th>5</th>\n",
       "      <td>APR</td>\n",
       "      <td>15</td>\n",
       "      <td>38359</td>\n",
       "      <td>Sunday</td>\n",
       "      <td>Padres</td>\n",
       "      <td>65</td>\n",
       "      <td>Clear</td>\n",
       "      <td>Day</td>\n",
       "      <td>NO</td>\n",
       "      <td>NO</td>\n",
       "      <td>NO</td>\n",
       "      <td>NO</td>\n",
       "    </tr>\n",
       "    <tr>\n",
       "      <th>6</th>\n",
       "      <td>APR</td>\n",
       "      <td>23</td>\n",
       "      <td>26376</td>\n",
       "      <td>Monday</td>\n",
       "      <td>Braves</td>\n",
       "      <td>60</td>\n",
       "      <td>Cloudy</td>\n",
       "      <td>Night</td>\n",
       "      <td>NO</td>\n",
       "      <td>NO</td>\n",
       "      <td>NO</td>\n",
       "      <td>NO</td>\n",
       "    </tr>\n",
       "    <tr>\n",
       "      <th>7</th>\n",
       "      <td>APR</td>\n",
       "      <td>24</td>\n",
       "      <td>44014</td>\n",
       "      <td>Tuesday</td>\n",
       "      <td>Braves</td>\n",
       "      <td>63</td>\n",
       "      <td>Cloudy</td>\n",
       "      <td>Night</td>\n",
       "      <td>NO</td>\n",
       "      <td>NO</td>\n",
       "      <td>NO</td>\n",
       "      <td>NO</td>\n",
       "    </tr>\n",
       "    <tr>\n",
       "      <th>8</th>\n",
       "      <td>APR</td>\n",
       "      <td>25</td>\n",
       "      <td>26345</td>\n",
       "      <td>Wednesday</td>\n",
       "      <td>Braves</td>\n",
       "      <td>64</td>\n",
       "      <td>Cloudy</td>\n",
       "      <td>Night</td>\n",
       "      <td>NO</td>\n",
       "      <td>NO</td>\n",
       "      <td>NO</td>\n",
       "      <td>NO</td>\n",
       "    </tr>\n",
       "    <tr>\n",
       "      <th>9</th>\n",
       "      <td>APR</td>\n",
       "      <td>27</td>\n",
       "      <td>44807</td>\n",
       "      <td>Friday</td>\n",
       "      <td>Nationals</td>\n",
       "      <td>66</td>\n",
       "      <td>Clear</td>\n",
       "      <td>Night</td>\n",
       "      <td>NO</td>\n",
       "      <td>NO</td>\n",
       "      <td>YES</td>\n",
       "      <td>NO</td>\n",
       "    </tr>\n",
       "  </tbody>\n",
       "</table>\n",
       "</div>"
      ],
      "text/plain": [
       "  month  day  attend day_of_week   opponent  temp   skies day_night cap shirt  \\\n",
       "0   APR   10   56000     Tuesday    Pirates    67  Clear        Day  NO    NO   \n",
       "1   APR   11   29729   Wednesday    Pirates    58  Cloudy     Night  NO    NO   \n",
       "2   APR   12   28328    Thursday    Pirates    57  Cloudy     Night  NO    NO   \n",
       "3   APR   13   31601      Friday     Padres    54  Cloudy     Night  NO    NO   \n",
       "4   APR   14   46549    Saturday     Padres    57  Cloudy     Night  NO    NO   \n",
       "5   APR   15   38359      Sunday     Padres    65  Clear        Day  NO    NO   \n",
       "6   APR   23   26376      Monday     Braves    60  Cloudy     Night  NO    NO   \n",
       "7   APR   24   44014     Tuesday     Braves    63  Cloudy     Night  NO    NO   \n",
       "8   APR   25   26345   Wednesday     Braves    64  Cloudy     Night  NO    NO   \n",
       "9   APR   27   44807      Friday  Nationals    66  Clear      Night  NO    NO   \n",
       "\n",
       "  fireworks bobblehead  \n",
       "0        NO         NO  \n",
       "1        NO         NO  \n",
       "2        NO         NO  \n",
       "3       YES         NO  \n",
       "4        NO         NO  \n",
       "5        NO         NO  \n",
       "6        NO         NO  \n",
       "7        NO         NO  \n",
       "8        NO         NO  \n",
       "9       YES         NO  "
      ]
     },
     "execution_count": 150,
     "metadata": {},
     "output_type": "execute_result"
    }
   ],
   "source": [
    "## predict attendance if temperature is 75 degrees\n",
    "predict_df = pd.read_csv(\"dodgers.csv\")\n",
    "predict_df.head(10)"
   ]
  },
  {
   "cell_type": "code",
   "execution_count": 152,
   "id": "98fa2bab",
   "metadata": {},
   "outputs": [
    {
     "data": {
      "image/png": "[encoded data removed]",
      "text/plain": [
       "<Figure size 432x288 with 1 Axes>"
      ]
     },
     "metadata": {
      "needs_background": "light"
     },
     "output_type": "display_data"
    }
   ],
   "source": [
    "## setting up box plot for the predictive model - this is not a very conclusive model because many more\n",
    "## scenarios would need to be ran but this is just the first run of that model\n",
    "Monday = predict_df.loc[predict_df['day_of_week']=='Monday', 'attend'].values\n",
    "Tuesday = predict_df.loc[predict_df['day_of_week']=='Tuesday', 'attend'].values\n",
    "Wednesday = predict_df.loc[predict_df['day_of_week']=='Wednesday', 'attend'].values\n",
    "Thursday = predict_df.loc[predict_df['day_of_week']=='Thursday', 'attend'].values\n",
    "Friday = predict_df.loc[predict_df['day_of_week']=='Friday', 'attend'].values\n",
    "Saturday = predict_df.loc[predict_df['day_of_week']=='Saturday', 'attend'].values\n",
    "Sunday = predict_df.loc[predict_df['day_of_week']=='Sunday', 'attend'].values\n",
    "\n",
    "plt.boxplot([Monday, Tuesday, Wednesday, Thursday, Friday, Saturday, Sunday], labels = ['Monday', 'Tuesday', 'Wednesday', 'Thursday', 'Friday', 'Saturday', 'Sunday']);"
   ]
  }
 ],
 "metadata": {
  "kernelspec": {
   "display_name": "Python 3 (ipykernel)",
   "language": "python",
   "name": "python3"
  },
  "language_info": {
   "codemirror_mode": {
    "name": "ipython",
    "version": 3
   },
   "file_extension": ".py",
   "mimetype": "text/x-python",
   "name": "python",
   "nbconvert_exporter": "python",
   "pygments_lexer": "ipython3",
   "version": "3.9.7"
  }
 },
 "nbformat": 4,
 "nbformat_minor": 5
}
