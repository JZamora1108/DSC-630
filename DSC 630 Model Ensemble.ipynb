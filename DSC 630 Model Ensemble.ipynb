{
 "cells": [
  {
   "cell_type": "markdown",
   "id": "afbb9331",
   "metadata": {},
   "source": [
    "**Assignment 9.3 - Calculate Probability of a Model Ensemble**"
   ]
  },
  {
   "cell_type": "code",
   "execution_count": 6,
   "id": "dd421f0d",
   "metadata": {},
   "outputs": [
    {
     "name": "stdout",
     "output_type": "stream",
     "text": [
      "<module 'os' from 'C:\\\\Users\\\\14029\\\\anaconda3\\\\lib\\\\os.py'>\n"
     ]
    }
   ],
   "source": [
    "##View os and imports\n",
    "import pandas as pd\n",
    "import numpy as np\n",
    "import scipy\n",
    "from scipy.stats import binom\n",
    "import os\n",
    "print (os)"
   ]
  },
  {
   "cell_type": "markdown",
   "id": "f1a4d4b5",
   "metadata": {},
   "source": [
    "In this analysis I will take the probability for three model ensembles to assisnt in calculating the mean and variance using the binom function in scipy. "
   ]
  },
  {
   "cell_type": "code",
   "execution_count": 14,
   "id": "482d204e",
   "metadata": {},
   "outputs": [
    {
     "name": "stdout",
     "output_type": "stream",
     "text": [
      "Probability = 0.038755368960000015\n"
     ]
    }
   ],
   "source": [
    "##Calc probability of binomial assignment 1\n",
    "probability = binom.pmf(k = 5, n = 11, p = 0.2) ##K = number of models / 2\n",
    "\n",
    "print(\"Probability =\", probability)"
   ]
  },
  {
   "cell_type": "code",
   "execution_count": 17,
   "id": "4eaf09d2",
   "metadata": {},
   "outputs": [
    {
     "name": "stdout",
     "output_type": "stream",
     "text": [
      "r\tp(r)\n",
      "0\t0.08589934592000005\n",
      "1\t0.23622320128000018\n",
      "2\t0.2952790016\n",
      "3\t0.22145925120000007\n",
      "4\t0.11072962559999995\n",
      "5\t0.038755368960000015\n",
      "6\t0.009688842240000004\n",
      "7\t0.0017301504000000016\n",
      "8\t0.0002162688000000003\n",
      "9\t1.8022400000000016e-05\n",
      "10\t9.011200000000006e-07\n",
      "11\t2.0480000000000012e-08\n",
      "Mean = 2.2\n",
      "Variance = 1.7600000000000002\n"
     ]
    }
   ],
   "source": [
    "##Call for n and p \n",
    "n = 11\n",
    "p = 0.2\n",
    "\n",
    "##create list for r, n and p values\n",
    "r_values = list(range(n+11))\n",
    "\n",
    "##using binom.stats for mean and variance \n",
    "mean, var = binom.stats(n, p)\n",
    "\n",
    "dist = [binom.pmf(r, n, p) for r in r_values]\n",
    "\n",
    "print(\"r\\tp(r)\")\n",
    "for i in range(n+1):\n",
    "    print(str(r_values[i]) + \"\\t\" + str(dist[i]))\n",
    "      \n",
    "##Print for mean and variance\n",
    "print(\"Mean = \" + str(mean))\n",
    "print(\"Variance = \" + str(var))"
   ]
  },
  {
   "cell_type": "markdown",
   "id": "670794d3",
   "metadata": {},
   "source": [
    "The probability for assignment 1 is shown as a variance of 1.76"
   ]
  },
  {
   "cell_type": "code",
   "execution_count": 18,
   "id": "4fe9acc2",
   "metadata": {},
   "outputs": [
    {
     "name": "stdout",
     "output_type": "stream",
     "text": [
      "Probability = 0.22963782894651696\n"
     ]
    }
   ],
   "source": [
    "##Calc probability of binomial assignment 2\n",
    "probability = binom.pmf(k = 5, n = 11, p = 0.49) ##K = number of models / 2\n",
    "\n",
    "print(\"Probability =\", probability)"
   ]
  },
  {
   "cell_type": "code",
   "execution_count": 19,
   "id": "6a3edb6b",
   "metadata": {},
   "outputs": [
    {
     "name": "stdout",
     "output_type": "stream",
     "text": [
      "r\tp(r)\n",
      "0\t0.0006071163615208264\n",
      "1\t0.0064163866443083415\n",
      "2\t0.030823818193245995\n",
      "3\t0.08884512302759136\n",
      "4\t0.17072200111184202\n",
      "5\t0.22963782894651696\n",
      "6\t0.22063242388979068\n",
      "7\t0.15141440855181712\n",
      "8\t0.07273829430430429\n",
      "9\t0.02329527072490786\n",
      "10\t0.004476346139296035\n",
      "11\t0.00039098210485829875\n",
      "Mean = 5.39\n",
      "Variance = 2.7489\n"
     ]
    }
   ],
   "source": [
    "##Call for n and p \n",
    "n = 11\n",
    "p = 0.49\n",
    "\n",
    "##create list for r, n and p values\n",
    "r_values = list(range(n+11))\n",
    "\n",
    "##using binom.stats for mean and variance \n",
    "mean, var = binom.stats(n, p)\n",
    "\n",
    "dist = [binom.pmf(r, n, p) for r in r_values]\n",
    "\n",
    "print(\"r\\tp(r)\")\n",
    "for i in range(n+1):\n",
    "    print(str(r_values[i]) + \"\\t\" + str(dist[i]))\n",
    "      \n",
    "##Print for mean and variance\n",
    "print(\"Mean = \" + str(mean))\n",
    "print(\"Variance = \" + str(var))"
   ]
  },
  {
   "cell_type": "markdown",
   "id": "c52f443e",
   "metadata": {},
   "source": [
    "The probability for assignment 2 is shown as a variance of 2.75"
   ]
  },
  {
   "cell_type": "code",
   "execution_count": 22,
   "id": "7428f57a",
   "metadata": {},
   "outputs": [
    {
     "name": "stdout",
     "output_type": "stream",
     "text": [
      "Probability = 0.1708668834234244\n"
     ]
    }
   ],
   "source": [
    "##Calc probability of binomial assignment 3\n",
    "probability = binom.pmf(k = 10, n = 21, p = 0.49) ##K = number of models / 2\n",
    "\n",
    "print(\"Probability =\", probability)"
   ]
  },
  {
   "cell_type": "code",
   "execution_count": 23,
   "id": "99712f61",
   "metadata": {},
   "outputs": [
    {
     "name": "stdout",
     "output_type": "stream",
     "text": [
      "r\tp(r)\n",
      "0\t7.227260322084054e-07\n",
      "1\t1.4582060532204868e-05\n",
      "2\t0.00014010215021138044\n",
      "3\t0.0008525170055346097\n",
      "4\t0.0036858823474584536\n",
      "5\t0.012040549001697619\n",
      "6\t0.030848988291931202\n",
      "7\t0.0635126229539758\n",
      "8\t0.10678838075104752\n",
      "9\t0.14820086827541915\n",
      "10\t0.1708668834234244\n",
      "11\t0.1641662213283881\n",
      "12\t0.13144027524658533\n",
      "13\t0.08742859937216295\n",
      "14\t0.04800001534157972\n",
      "15\t0.021521575506093935\n",
      "16\t0.007754097057342665\n",
      "17\t0.0021911808293528837\n",
      "18\t0.00046783381541739205\n",
      "19\t7.09716933605329e-05\n",
      "20\t6.8188489699335564e-06\n",
      "21\t3.1197348228454223e-07\n",
      "Mean = 10.29\n",
      "Variance = 5.2479\n"
     ]
    }
   ],
   "source": [
    "##Call for n and p \n",
    "n = 21\n",
    "p = 0.49\n",
    "\n",
    "##create list for r, n and p values\n",
    "r_values = list(range(n+11))\n",
    "\n",
    "##using binom.stats for mean and variance \n",
    "mean, var = binom.stats(n, p)\n",
    "\n",
    "dist = [binom.pmf(r, n, p) for r in r_values]\n",
    "\n",
    "print(\"r\\tp(r)\")\n",
    "for i in range(n+1):\n",
    "    print(str(r_values[i]) + \"\\t\" + str(dist[i]))\n",
    "      \n",
    "##Print for mean and variance\n",
    "print(\"Mean = \" + str(mean))\n",
    "print(\"Variance = \" + str(var))"
   ]
  },
  {
   "cell_type": "markdown",
   "id": "9a64f170",
   "metadata": {},
   "source": [
    "The probability for assignment 2 is shown as a variance of 5.25"
   ]
  },
  {
   "cell_type": "markdown",
   "id": "3dfc3713",
   "metadata": {},
   "source": [
    "The mean can be calculated and verified by simply taking the the number of models and dividing it by the p value for a quick means of double checking and ensuring the formula is working as desired. \n",
    "\n",
    "For example assignment 3 has 21 models and a p value of .49. 49% of 21 is 10.29. "
   ]
  }
 ],
 "metadata": {
  "kernelspec": {
   "display_name": "Python 3 (ipykernel)",
   "language": "python",
   "name": "python3"
  },
  "language_info": {
   "codemirror_mode": {
    "name": "ipython",
    "version": 3
   },
   "file_extension": ".py",
   "mimetype": "text/x-python",
   "name": "python",
   "nbconvert_exporter": "python",
   "pygments_lexer": "ipython3",
   "version": "3.9.7"
  }
 },
 "nbformat": 4,
 "nbformat_minor": 5
}
