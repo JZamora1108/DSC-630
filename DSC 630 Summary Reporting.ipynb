{
 "cells": [
  {
   "cell_type": "code",
   "execution_count": 1,
   "id": "4fa18268",
   "metadata": {},
   "outputs": [
    {
     "name": "stdout",
     "output_type": "stream",
     "text": [
      "<module 'os' from 'C:\\\\Users\\\\14029\\\\anaconda3\\\\lib\\\\os.py'>\n"
     ]
    }
   ],
   "source": [
    "##View os and imports\n",
    "import pandas as pd\n",
    "import numpy as np\n",
    "import matplotlib.pyplot as plt\n",
    "import os\n",
    "print (os)"
   ]
  },
  {
   "cell_type": "code",
   "execution_count": 5,
   "id": "f16182d9",
   "metadata": {},
   "outputs": [
    {
     "data": {
      "text/html": [
       "<div>\n",
       "<style scoped>\n",
       "    .dataframe tbody tr th:only-of-type {\n",
       "        vertical-align: middle;\n",
       "    }\n",
       "\n",
       "    .dataframe tbody tr th {\n",
       "        vertical-align: top;\n",
       "    }\n",
       "\n",
       "    .dataframe thead th {\n",
       "        text-align: right;\n",
       "    }\n",
       "</style>\n",
       "<table border=\"1\" class=\"dataframe\">\n",
       "  <thead>\n",
       "    <tr style=\"text-align: right;\">\n",
       "      <th></th>\n",
       "      <th>Series ID</th>\n",
       "      <th>Year</th>\n",
       "      <th>Period</th>\n",
       "      <th>Label</th>\n",
       "      <th>Value</th>\n",
       "    </tr>\n",
       "  </thead>\n",
       "  <tbody>\n",
       "    <tr>\n",
       "      <th>0</th>\n",
       "      <td>APU000074714</td>\n",
       "      <td>2019</td>\n",
       "      <td>M01</td>\n",
       "      <td>2019 Jan</td>\n",
       "      <td>2.289</td>\n",
       "    </tr>\n",
       "    <tr>\n",
       "      <th>1</th>\n",
       "      <td>APU000074714</td>\n",
       "      <td>2019</td>\n",
       "      <td>M02</td>\n",
       "      <td>2019 Feb</td>\n",
       "      <td>2.353</td>\n",
       "    </tr>\n",
       "    <tr>\n",
       "      <th>2</th>\n",
       "      <td>APU000074714</td>\n",
       "      <td>2019</td>\n",
       "      <td>M03</td>\n",
       "      <td>2019 Mar</td>\n",
       "      <td>2.564</td>\n",
       "    </tr>\n",
       "    <tr>\n",
       "      <th>3</th>\n",
       "      <td>APU000074714</td>\n",
       "      <td>2019</td>\n",
       "      <td>M04</td>\n",
       "      <td>2019 Apr</td>\n",
       "      <td>2.835</td>\n",
       "    </tr>\n",
       "    <tr>\n",
       "      <th>4</th>\n",
       "      <td>APU000074714</td>\n",
       "      <td>2019</td>\n",
       "      <td>M05</td>\n",
       "      <td>2019 May</td>\n",
       "      <td>2.901</td>\n",
       "    </tr>\n",
       "    <tr>\n",
       "      <th>5</th>\n",
       "      <td>APU000074714</td>\n",
       "      <td>2019</td>\n",
       "      <td>M06</td>\n",
       "      <td>2019 Jun</td>\n",
       "      <td>2.752</td>\n",
       "    </tr>\n",
       "    <tr>\n",
       "      <th>6</th>\n",
       "      <td>APU000074714</td>\n",
       "      <td>2019</td>\n",
       "      <td>M07</td>\n",
       "      <td>2019 Jul</td>\n",
       "      <td>2.776</td>\n",
       "    </tr>\n",
       "    <tr>\n",
       "      <th>7</th>\n",
       "      <td>APU000074714</td>\n",
       "      <td>2019</td>\n",
       "      <td>M08</td>\n",
       "      <td>2019 Aug</td>\n",
       "      <td>2.655</td>\n",
       "    </tr>\n",
       "    <tr>\n",
       "      <th>8</th>\n",
       "      <td>APU000074714</td>\n",
       "      <td>2019</td>\n",
       "      <td>M09</td>\n",
       "      <td>2019 Sep</td>\n",
       "      <td>2.630</td>\n",
       "    </tr>\n",
       "    <tr>\n",
       "      <th>9</th>\n",
       "      <td>APU000074714</td>\n",
       "      <td>2019</td>\n",
       "      <td>M10</td>\n",
       "      <td>2019 Oct</td>\n",
       "      <td>2.673</td>\n",
       "    </tr>\n",
       "  </tbody>\n",
       "</table>\n",
       "</div>"
      ],
      "text/plain": [
       "      Series ID  Year Period     Label  Value\n",
       "0  APU000074714  2019    M01  2019 Jan  2.289\n",
       "1  APU000074714  2019    M02  2019 Feb  2.353\n",
       "2  APU000074714  2019    M03  2019 Mar  2.564\n",
       "3  APU000074714  2019    M04  2019 Apr  2.835\n",
       "4  APU000074714  2019    M05  2019 May  2.901\n",
       "5  APU000074714  2019    M06  2019 Jun  2.752\n",
       "6  APU000074714  2019    M07  2019 Jul  2.776\n",
       "7  APU000074714  2019    M08  2019 Aug  2.655\n",
       "8  APU000074714  2019    M09  2019 Sep  2.630\n",
       "9  APU000074714  2019    M10  2019 Oct  2.673"
      ]
     },
     "execution_count": 5,
     "metadata": {},
     "output_type": "execute_result"
    }
   ],
   "source": [
    "##Read in spreadsheet and view info\n",
    "df = pd.read_csv(\"BLS_Gas_Data.csv\")\n",
    "df.head(10)"
   ]
  },
  {
   "cell_type": "code",
   "execution_count": 6,
   "id": "1fb475ec",
   "metadata": {},
   "outputs": [
    {
     "data": {
      "text/plain": [
       "Series ID    0\n",
       "Year         0\n",
       "Period       0\n",
       "Label        0\n",
       "Value        0\n",
       "dtype: int64"
      ]
     },
     "execution_count": 6,
     "metadata": {},
     "output_type": "execute_result"
    }
   ],
   "source": [
    "##verifying data quality\n",
    "df.isnull().sum()"
   ]
  },
  {
   "cell_type": "code",
   "execution_count": 9,
   "id": "d7e8ffc9",
   "metadata": {},
   "outputs": [
    {
     "data": {
      "text/plain": [
       "array([[<AxesSubplot:title={'center':'Year'}>,\n",
       "        <AxesSubplot:title={'center':'Value'}>]], dtype=object)"
      ]
     },
     "execution_count": 9,
     "metadata": {},
     "output_type": "execute_result"
    },
    {
     "data": {
      "image/png": "[encoded data removed]",
      "text/plain": [
       "<Figure size 432x288 with 2 Axes>"
      ]
     },
     "metadata": {
      "needs_background": "light"
     },
     "output_type": "display_data"
    }
   ],
   "source": [
    "##Setting up histogram to see data\n",
    "df.hist(['Year','Value'])"
   ]
  },
  {
   "cell_type": "code",
   "execution_count": 15,
   "id": "83aed7e7",
   "metadata": {},
   "outputs": [
    {
     "name": "stdout",
     "output_type": "stream",
     "text": [
      "           Year     Value\n",
      "Year   1.000000  0.294774\n",
      "Value  0.294774  1.000000\n"
     ]
    }
   ],
   "source": [
    "##View bivariate relationship using correlations\n",
    "correlations = df.corr() ##output shows the correlation between the year and the value \n",
    "print(correlations)"
   ]
  },
  {
   "cell_type": "code",
   "execution_count": 16,
   "id": "c4dd872e",
   "metadata": {},
   "outputs": [
    {
     "data": {
      "image/png": "[encoded data removed]",
      "text/plain": [
       "<Figure size 432x288 with 2 Axes>"
      ]
     },
     "metadata": {
      "needs_background": "light"
     },
     "output_type": "display_data"
    }
   ],
   "source": [
    "%matplotlib inline ##hearmap gives a negative value and a null value as there is not enough information here to validate a heatmap\n",
    "import seaborn as sns\n",
    "import matplotlib.pyplot as plt\n",
    "sns.heatmap(correlations)\n",
    "plt.show()"
   ]
  },
  {
   "cell_type": "code",
   "execution_count": 25,
   "id": "0468f62e",
   "metadata": {},
   "outputs": [
    {
     "data": {
      "text/plain": [
       "<AxesSubplot:xlabel='Year'>"
      ]
     },
     "execution_count": 25,
     "metadata": {},
     "output_type": "execute_result"
    },
    {
     "data": {
      "image/png": "[encoded data removed]",
      "text/plain": [
       "<Figure size 432x288 with 1 Axes>"
      ]
     },
     "metadata": {
      "needs_background": "light"
     },
     "output_type": "display_data"
    }
   ],
   "source": [
    "df.plot('Year', 'Value')"
   ]
  },
  {
   "cell_type": "code",
   "execution_count": 22,
   "id": "99610600",
   "metadata": {},
   "outputs": [
    {
     "name": "stdout",
     "output_type": "stream",
     "text": [
      "              Year      Value\n",
      "count    34.000000  34.000000\n",
      "mean   2019.941176   2.571882\n",
      "std       0.814311   0.407103\n",
      "min    2019.000000   1.876000\n",
      "25%    2019.000000   2.211500\n",
      "50%    2020.000000   2.577000\n",
      "75%    2021.000000   2.824000\n",
      "max    2021.000000   3.385000\n"
     ]
    }
   ],
   "source": [
    "##Setting up summary report\n",
    "df_summary = df.describe()\n",
    "print(df_summary)"
   ]
  },
  {
   "cell_type": "code",
   "execution_count": null,
   "id": "c1152287",
   "metadata": {},
   "outputs": [],
   "source": [
    "##1 - there was not a lot of data to go alone with the data set for gas prices. I had 2019-2021 and gas prices for each of those years.\n",
    "##2 - I was suprised to see that there was a very sharp decline in gas prices - I did some research and it appears this typically happens around the presidential voting. \n",
    "##3 - I attempted a heatmap to show the correlations but the summary did a much better job of that as a heatmap is not good for showing two variables.\n",
    "##4 - I would like to take the gas prices and see if there are correlations with things like average national salary increases and shipping costs in the future. "
   ]
  }
 ],
 "metadata": {
  "kernelspec": {
   "display_name": "Python 3 (ipykernel)",
   "language": "python",
   "name": "python3"
  },
  "language_info": {
   "codemirror_mode": {
    "name": "ipython",
    "version": 3
   },
   "file_extension": ".py",
   "mimetype": "text/x-python",
   "name": "python",
   "nbconvert_exporter": "python",
   "pygments_lexer": "ipython3",
   "version": "3.9.7"
  }
 },
 "nbformat": 4,
 "nbformat_minor": 5
}
